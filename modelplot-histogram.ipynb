{
 "cells": [
  {
   "cell_type": "code",
   "execution_count": null,
   "metadata": {},
   "outputs": [],
   "source": [
    "import csv\n",
    "import numpy as np\n",
    "import cv2\n",
    "import tensorflow as tf\n"
   ]
  },
  {
   "cell_type": "code",
   "execution_count": null,
   "metadata": {},
   "outputs": [],
   "source": [
    "lines = []\n",
    "with open ('new_data1/driving_log.csv') as csvfile:\n",
    "    reader = csv.reader(csvfile)\n",
    "    for line in reader:\n",
    "        lines.append(line)\n",
    "        \n",
    "images = []\n",
    "measurements = []\n",
    "correction = 0.5\n",
    "\n",
    "\n",
    "for line in lines:\n",
    "    \n",
    "    #center images load\n",
    "    source_path_c =  line[0]\n",
    "    filename_c = source_path_c.split('/')[-1]\n",
    "    current_path_c = 'new_data1/IMG/' + filename_c\n",
    "    image_c = cv2.imread(current_path_c)\n",
    "    images.append(image_c)\n",
    "    measurement_c = float(line[3])\n",
    "    measurements.append(measurement_c)\n",
    "    \n",
    "    #left images load\n",
    "    source_path_l =  line[1]\n",
    "    filename_l = source_path_l.split('/')[-1]\n",
    "    current_path_l = 'new_data1/IMG/' + filename_l\n",
    "    image_l = cv2.imread(current_path_l)\n",
    "    images.append(image_l)\n",
    "    measurement_l = measurement_c + correction\n",
    "    measurements.append(measurement_l)\n",
    "    \n",
    "    #right images load\n",
    "    source_path_r =  line[2]\n",
    "    filename_r = source_path_r.split('/')[-1]\n",
    "    current_path_r = 'new_data1/IMG/' + filename_r\n",
    "    image_r = cv2.imread(current_path_r)\n",
    "    images.append(image_r)\n",
    "    measurement_r = measurement_c - correction\n",
    "    measurements.append(measurement_r)\n",
    "\n",
    "print('Total steering angle positions original images' , len(measurements))\n",
    "print('Total number of original images', len(images))"
   ]
  },
  {
   "cell_type": "code",
   "execution_count": null,
   "metadata": {},
   "outputs": [],
   "source": [
    "import random\n",
    "import matplotlib.pyplot as plt\n",
    "%matplotlib inline\n",
    "\n",
    "# Histogram of augmented y_train\n",
    "plt.hist(measurements, 25)\n",
    "plt.title(\"Histogram of Steering angles -Original\")\n",
    "plt.xlabel(\"Steering angle range\")\n",
    "plt.ylabel(\"No. of Steering angles\")\n",
    "plt.axis([-1, 1, 0, 15000])\n",
    "plt.show()"
   ]
  },
  {
   "cell_type": "code",
   "execution_count": null,
   "metadata": {},
   "outputs": [],
   "source": [
    "augmented_images, augmented_measurements = [], []\n",
    "\n",
    "for image,measurement in zip(images,measurements):\n",
    "    augmented_images.append(image)\n",
    "    augmented_measurements.append(measurement)\n",
    "    augmented_images.append(cv2.flip(image,1))\n",
    "    augmented_measurements.append(measurement*-1)\n",
    "    \n",
    "X_train = np.array(augmented_images)\n",
    "y_train = np.array(augmented_measurements)\n",
    "\n",
    "print('Data Augmentation done')\n",
    "print('Total augmented images', len(X_train))\n",
    "print('Total steering angle positions augmented images', len(y_train))\n"
   ]
  },
  {
   "cell_type": "code",
   "execution_count": null,
   "metadata": {},
   "outputs": [],
   "source": [
    "# Histogram of augmented y_train\n",
    "plt.hist(y_train, 25)\n",
    "plt.title(\"Histogram of Steering angles - Augmented\")\n",
    "plt.xlabel(\"Steering angle range\")\n",
    "plt.ylabel(\"No. of Steering angles\")\n",
    "plt.axis([-1, 1, 0, 15000])\n",
    "plt.show()"
   ]
  },
  {
   "cell_type": "code",
   "execution_count": null,
   "metadata": {},
   "outputs": [],
   "source": []
  }
 ],
 "metadata": {
  "kernelspec": {
   "display_name": "Python 3",
   "language": "python",
   "name": "python3"
  },
  "language_info": {
   "codemirror_mode": {
    "name": "ipython",
    "version": 3
   },
   "file_extension": ".py",
   "mimetype": "text/x-python",
   "name": "python",
   "nbconvert_exporter": "python",
   "pygments_lexer": "ipython3",
   "version": "3.7.6"
  }
 },
 "nbformat": 4,
 "nbformat_minor": 4
}
